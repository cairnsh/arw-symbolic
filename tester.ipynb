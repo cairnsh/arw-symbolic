{
 "cells": [
  {
   "cell_type": "code",
   "execution_count": 7,
   "metadata": {},
   "outputs": [],
   "source": [
    "from importlib import reload\n",
    "from sympy import *"
   ]
  },
  {
   "cell_type": "code",
   "execution_count": 8,
   "metadata": {},
   "outputs": [],
   "source": [
    "from transient import *"
   ]
  },
  {
   "cell_type": "code",
   "execution_count": 9,
   "metadata": {},
   "outputs": [],
   "source": [
    "from defs import *"
   ]
  },
  {
   "cell_type": "code",
   "execution_count": 10,
   "metadata": {},
   "outputs": [],
   "source": [
    "bar = transient_from_graph([0, 1, 2, 3, 4, 5, 6], [(0, 1), (0, 2), (1, 3), (2, 4), (1, 2), (3, 5), (3, 4), (4, 6)], [5, 6])"
   ]
  },
  {
   "cell_type": "code",
   "execution_count": 11,
   "metadata": {},
   "outputs": [
    {
     "name": "stdout",
     "output_type": "stream",
     "text": [
      "node 0 has transitions\n",
      "    1                        p = 1/2\n",
      "    2                        p = 1/2\n",
      "\n",
      "node 1 has transitions\n",
      "    0                        p = 1/3\n",
      "    3                        p = 1/3\n",
      "    2                        p = 1/3\n",
      "\n",
      "node 2 has transitions\n",
      "    0                        p = 1/3\n",
      "    4                        p = 1/3\n",
      "    1                        p = 1/3\n",
      "\n",
      "node 3 has transitions\n",
      "    1                        p = 1/3\n",
      "    5                        p = 1/3\n",
      "    4                        p = 1/3\n",
      "\n",
      "node 4 has transitions\n",
      "    2                        p = 1/3\n",
      "    3                        p = 1/3\n",
      "    6                        p = 1/3\n",
      "\n",
      "sinks:\n",
      "    5\n",
      "    6\n"
     ]
    }
   ],
   "source": [
    "print_transitions(bar)"
   ]
  },
  {
   "cell_type": "code",
   "execution_count": 12,
   "metadata": {},
   "outputs": [],
   "source": [
    "bar = transient_representation(bar)"
   ]
  },
  {
   "cell_type": "code",
   "execution_count": 13,
   "metadata": {},
   "outputs": [
    {
     "name": "stdout",
     "output_type": "stream",
     "text": [
      "forward: column 0 ('degree', 0)\r",
      "forward: column 1 ('degree', 0)\r",
      "forward: column 2 ('degree', 0)\r",
      "forward: column 3 ('degree', 0)\r",
      "forward: column 4 ('degree', 0)\r",
      "forward: column 5 ('degree', 0)\r",
      "forward: column 6 ('degree', 0)\r",
      "backward: column 6             \r",
      "backward: column 5\r",
      "backward: column 4\r",
      "backward: column 3\r",
      "backward: column 2\r",
      "backward: column 1\r",
      "backward: column 0\r",
      "done              \n"
     ]
    },
    {
     "data": {
      "text/plain": [
       "[[1/2, 1/2], [8/15, 7/15], [7/15, 8/15], [19/30, 11/30]]"
      ]
     },
     "execution_count": 13,
     "metadata": {},
     "output_type": "execute_result"
    }
   ],
   "source": [
    "bar.stable([0, 1, 2, 3])"
   ]
  },
  {
   "cell_type": "code",
   "execution_count": null,
   "metadata": {},
   "outputs": [],
   "source": []
  }
 ],
 "metadata": {
  "kernelspec": {
   "display_name": "Python 3",
   "language": "python",
   "name": "python3"
  },
  "language_info": {
   "codemirror_mode": {
    "name": "ipython",
    "version": 3
   },
   "file_extension": ".py",
   "mimetype": "text/x-python",
   "name": "python",
   "nbconvert_exporter": "python",
   "pygments_lexer": "ipython3",
   "version": "3.8.2"
  }
 },
 "nbformat": 4,
 "nbformat_minor": 4
}
