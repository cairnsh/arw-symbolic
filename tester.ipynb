{
 "cells": [
  {
   "cell_type": "code",
   "execution_count": 187,
   "metadata": {},
   "outputs": [],
   "source": [
    "from importlib import reload\n",
    "from sympy import *"
   ]
  },
  {
   "cell_type": "code",
   "execution_count": 224,
   "metadata": {},
   "outputs": [
    {
     "data": {
      "text/plain": [
       "<module 'transient' from 'C:\\\\Users\\\\cola\\\\Downloads\\\\bar\\\\arw-symbolic\\\\transient.py'>"
      ]
     },
     "execution_count": 224,
     "metadata": {},
     "output_type": "execute_result"
    }
   ],
   "source": [
    "from transient import *\n",
    "reload(transient)"
   ]
  },
  {
   "cell_type": "code",
   "execution_count": 189,
   "metadata": {},
   "outputs": [],
   "source": [
    "from defs import *"
   ]
  },
  {
   "cell_type": "code",
   "execution_count": 234,
   "metadata": {},
   "outputs": [],
   "source": [
    "bar = transient_from_graph([0, 1, 2, 3, 4, 5, 6], [(0, 1), (0, 2), (1, 3), (2, 4), (1, 2), (3, 5), (3, 4), (4, 6)], [5, 6])"
   ]
  },
  {
   "cell_type": "code",
   "execution_count": 235,
   "metadata": {},
   "outputs": [
    {
     "name": "stdout",
     "output_type": "stream",
     "text": [
      "node 0 has transitions\n",
      "    1                        p = 1/2\n",
      "    2                        p = 1/2\n",
      "\n",
      "node 1 has transitions\n",
      "    0                        p = 1/3\n",
      "    3                        p = 1/3\n",
      "    2                        p = 1/3\n",
      "\n",
      "node 2 has transitions\n",
      "    0                        p = 1/3\n",
      "    4                        p = 1/3\n",
      "    1                        p = 1/3\n",
      "\n",
      "node 3 has transitions\n",
      "    1                        p = 1/3\n",
      "    5                        p = 1/3\n",
      "    4                        p = 1/3\n",
      "\n",
      "node 4 has transitions\n",
      "    2                        p = 1/3\n",
      "    3                        p = 1/3\n",
      "    6                        p = 1/3\n",
      "\n",
      "sinks:\n",
      "    5\n",
      "    6\n"
     ]
    }
   ],
   "source": [
    "print_transitions(bar)"
   ]
  },
  {
   "cell_type": "code",
   "execution_count": 236,
   "metadata": {},
   "outputs": [],
   "source": [
    "bar = transient_representation(bar)"
   ]
  },
  {
   "cell_type": "code",
   "execution_count": 237,
   "metadata": {},
   "outputs": [
    {
     "name": "stdout",
     "output_type": "stream",
     "text": [
      "forward: column 0 ('degree', 0)\r",
      "forward: column 1 ('degree', 0)\r",
      "forward: column 2 ('degree', 0)\r",
      "forward: column 3 ('degree', 0)\r",
      "forward: column 4 ('degree', 0)\r",
      "forward: column 5 ('degree', 0)\r",
      "forward: column 6 ('degree', 0)\r",
      "backward: column 6             \r",
      "backward: column 5\r",
      "backward: column 4\r",
      "backward: column 3\r",
      "backward: column 2\r",
      "backward: column 1\r",
      "backward: column 0\r",
      "done              \n"
     ]
    },
    {
     "data": {
      "text/plain": [
       "[[1/2, 1/2], [8/15, 7/15], [7/15, 8/15], [19/30, 11/30]]"
      ]
     },
     "execution_count": 237,
     "metadata": {},
     "output_type": "execute_result"
    }
   ],
   "source": [
    "bar.stable([0, 1, 2, 3])"
   ]
  },
  {
   "cell_type": "code",
   "execution_count": 210,
   "metadata": {},
   "outputs": [
    {
     "data": {
      "text/plain": [
       "reversible([0: 0, 1: 2])"
      ]
     },
     "execution_count": 210,
     "metadata": {},
     "output_type": "execute_result"
    }
   ],
   "source": [
    "bar.sink"
   ]
  },
  {
   "cell_type": "code",
   "execution_count": null,
   "metadata": {},
   "outputs": [],
   "source": []
  }
 ],
 "metadata": {
  "kernelspec": {
   "display_name": "Python 3",
   "language": "python",
   "name": "python3"
  },
  "language_info": {
   "codemirror_mode": {
    "name": "ipython",
    "version": 3
   },
   "file_extension": ".py",
   "mimetype": "text/x-python",
   "name": "python",
   "nbconvert_exporter": "python",
   "pygments_lexer": "ipython3",
   "version": "3.7.8"
  }
 },
 "nbformat": 4,
 "nbformat_minor": 4
}
