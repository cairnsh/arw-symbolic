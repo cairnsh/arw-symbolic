{
 "cells": [
  {
   "cell_type": "code",
   "execution_count": 1,
   "metadata": {},
   "outputs": [],
   "source": [
    "import numpy as np, scipy as sp\n",
    "import time, sys\n",
    "import scipy.linalg, scipy.sparse.linalg\n",
    "from mpmath import mp\n",
    "from matplotlib import pyplot as p\n",
    "from importlib import reload"
   ]
  },
  {
   "cell_type": "code",
   "execution_count": 2,
   "metadata": {},
   "outputs": [],
   "source": [
    "from defs import *"
   ]
  },
  {
   "cell_type": "code",
   "execution_count": 3,
   "metadata": {},
   "outputs": [],
   "source": [
    "import graph\n",
    "reload(graph)\n",
    "from graph import abstract_graph, graphmatrix, outerboundary\n",
    "from graph import completegraph, linegraph"
   ]
  },
  {
   "cell_type": "code",
   "execution_count": 537,
   "metadata": {},
   "outputs": [],
   "source": [
    "def calculate_steady_state_polynomial_and_gcd(L):\n",
    "    graph = activatedwalk_thenwake(L, STOP_PROB)\n",
    "    matrix = graphmatrix(graph)\n",
    "    what = polynomialize(matrix.steady())\n",
    "    steady = justsink(what, matrix)\n",
    "    gcd = gcd_list([j for j in steady])\n",
    "    return [cancel(j / gcd) for j in steady], factor(gcd)"
   ]
  }
 ],
 "metadata": {
  "kernelspec": {
   "display_name": "Python 3",
   "language": "python",
   "name": "python3"
  },
  "language_info": {
   "codemirror_mode": {
    "name": "ipython",
    "version": 3
   },
   "file_extension": ".py",
   "mimetype": "text/x-python",
   "name": "python",
   "nbconvert_exporter": "python",
   "pygments_lexer": "ipython3",
   "version": "3.7.8"
  }
 },
 "nbformat": 4,
 "nbformat_minor": 4
}
